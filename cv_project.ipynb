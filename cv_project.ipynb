{
  "cells": [
    {
      "cell_type": "code",
      "execution_count": 6,
      "metadata": {
        "id": "fGiKjT1fRwP7"
      },
      "outputs": [],
      "source": [
        "import cv2\n",
        "import os\n",
        "import numpy as np\n",
        "from google.colab.patches import cv2_imshow"
      ]
    },
    {
      "cell_type": "code",
      "source": [
        "!unzip \"/content/drive/MyDrive/MiddEval3-data-F.zip\"\n",
        "!unzip \"/content/drive/MyDrive/MiddEval3-GTy-F.zip\"\n",
        "train = \"/content/MiddEval3/trainingF\""
      ],
      "metadata": {
        "id": "x6RKwMxBv6Qd"
      },
      "execution_count": null,
      "outputs": []
    },
    {
      "cell_type": "code",
      "source": [
        "images = os.listdir(train)\n",
        "images.sort()\n",
        "images = images[1:]\n",
        "images"
      ],
      "metadata": {
        "id": "VJ7cCOiq1NYf"
      },
      "execution_count": null,
      "outputs": []
    },
    {
      "cell_type": "code",
      "execution_count": 32,
      "metadata": {
        "id": "wjKIGgRMS0Nz",
        "colab": {
          "base_uri": "https://localhost:8080/"
        },
        "outputId": "a6f60ba0-4940-40e8-c75f-26b06ad9b787"
      },
      "outputs": [
        {
          "output_type": "stream",
          "name": "stdout",
          "text": [
            "Mean Absolute Error (MAE) for img 1: 0.18498603\n",
            "Root Mean Squared Error (RMSE) img 1: 0.29448724\n",
            "--------------------------------------------------------------------------------------------\n",
            "\n",
            "Mean Absolute Error (MAE) for img 2: 0.16449785\n",
            "Root Mean Squared Error (RMSE) img 2: 0.26953125\n",
            "--------------------------------------------------------------------------------------------\n",
            "\n",
            "Mean Absolute Error (MAE) for img 3: 0.17622311\n",
            "Root Mean Squared Error (RMSE) img 3: 0.28982896\n",
            "--------------------------------------------------------------------------------------------\n",
            "\n",
            "Mean Absolute Error (MAE) for img 4: 0.169583\n",
            "Root Mean Squared Error (RMSE) img 4: 0.2816584\n",
            "--------------------------------------------------------------------------------------------\n",
            "\n",
            "Mean Absolute Error (MAE) for img 5: 0.27715164\n",
            "Root Mean Squared Error (RMSE) img 5: 0.3892926\n",
            "--------------------------------------------------------------------------------------------\n",
            "\n",
            "Mean Absolute Error (MAE) for img 6: 0.21273646\n",
            "Root Mean Squared Error (RMSE) img 6: 0.3339849\n",
            "--------------------------------------------------------------------------------------------\n",
            "\n",
            "Mean Absolute Error (MAE) for img 7: 0.3100212\n",
            "Root Mean Squared Error (RMSE) img 7: 0.44288358\n",
            "--------------------------------------------------------------------------------------------\n",
            "\n",
            "Mean Absolute Error (MAE) for img 8: 0.21615773\n",
            "Root Mean Squared Error (RMSE) img 8: 0.34040013\n",
            "--------------------------------------------------------------------------------------------\n",
            "\n",
            "Mean Absolute Error (MAE) for img 9: 0.54840446\n",
            "Root Mean Squared Error (RMSE) img 9: 0.63151866\n",
            "--------------------------------------------------------------------------------------------\n",
            "\n",
            "Mean Absolute Error (MAE) for img 10: 0.17824799\n",
            "Root Mean Squared Error (RMSE) img 10: 0.27766788\n",
            "--------------------------------------------------------------------------------------------\n",
            "\n",
            "Mean Absolute Error (MAE) for img 11: 0.14201379\n",
            "Root Mean Squared Error (RMSE) img 11: 0.2164677\n",
            "--------------------------------------------------------------------------------------------\n",
            "\n",
            "Mean Absolute Error (MAE) for img 12: 0.2647079\n",
            "Root Mean Squared Error (RMSE) img 12: 0.37787274\n",
            "--------------------------------------------------------------------------------------------\n",
            "\n"
          ]
        }
      ],
      "source": [
        "mean_mae = []\n",
        "mean_rmse = []\n",
        "z = 1\n",
        "\n",
        "for i in images:\n",
        "    \n",
        "    img_left = cv2.imread(train + \"/\" + i + \"/\" + 'im0.png')\n",
        "    img_right = cv2.imread(train + \"/\" + i + \"/\" + 'im1.png')\n",
        "    \n",
        "    #Gaussian filter to smoothen images\n",
        "    img_left = cv2.GaussianBlur(img_left, (7, 7), 1)\n",
        "    img_right = cv2.GaussianBlur(img_right, (7, 7), 1)\n",
        "\n",
        "    # Convert the images to grayscale\n",
        "    gray_left = cv2.cvtColor(img_left, cv2.COLOR_BGR2GRAY)\n",
        "    gray_right = cv2.cvtColor(img_right, cv2.COLOR_BGR2GRAY)\n",
        "\n",
        "    # Find the keypoints and descriptors using SIFT\n",
        "    sift = cv2.xfeatures2d.SIFT_create()\n",
        "    kp_left, des_left = sift.detectAndCompute(gray_left, None)\n",
        "    kp_right, des_right = sift.detectAndCompute(gray_right, None)\n",
        "\n",
        "    # Find the matches between the descriptors\n",
        "    bf = cv2.BFMatcher()\n",
        "    matches = bf.knnMatch(des_left, des_right, k=2)\n",
        "\n",
        "    # Apply ratio test to find good matches\n",
        "    good_matches = []\n",
        "    for m, n in matches:\n",
        "        if m.distance < 0.75 * n.distance:\n",
        "            good_matches.append(m)\n",
        "\n",
        "    # Find the coordinates of the matched keypoints\n",
        "    left_pts = np.float32([kp_left[m.queryIdx].pt for m in good_matches]).reshape(-1, 1, 2)\n",
        "    right_pts = np.float32([kp_right[m.trainIdx].pt for m in good_matches]).reshape(-1, 1, 2)\n",
        "\n",
        "    # Estimate the fundamental matrix\n",
        "    F, mask = cv2.findFundamentalMat(left_pts, right_pts, cv2.FM_RANSAC)\n",
        "\n",
        "    # Rectify the images\n",
        "    ret, H_left, H_right = cv2.stereoRectifyUncalibrated(left_pts, right_pts, F, img_left.shape[:2])\n",
        "\n",
        "    # Compute the disparity map\n",
        "    window_size = 5\n",
        "    min_disp = 0\n",
        "    max_disp = 64\n",
        "    num_disp = max_disp - min_disp\n",
        "    stereo = cv2.StereoSGBM_create(minDisparity=min_disp,\n",
        "                                numDisparities=num_disp,\n",
        "                                blockSize=window_size,\n",
        "                                uniquenessRatio=10,\n",
        "                                speckleWindowSize=100,\n",
        "                                speckleRange=32,\n",
        "                                disp12MaxDiff=5,\n",
        "                                P1=8*3*window_size**2,\n",
        "                                P2=32*3*window_size**2)\n",
        "    gray_left_rect = cv2.warpPerspective(gray_left, H_left, img_left.shape[:2][::-1])\n",
        "    gray_right_rect = cv2.warpPerspective(gray_right, H_right, img_right.shape[:2][::-1])\n",
        "    disparity = stereo.compute(gray_left_rect, gray_right_rect)\n",
        "\n",
        "    # Display the depth map\n",
        "    min_disp = disparity.min()\n",
        "    max_disp = disparity.max()\n",
        "    disp_normalized = (disparity - min_disp) / (max_disp - min_disp)\n",
        "    depth_map = cv2.applyColorMap((disp_normalized * 255).astype(np.uint8), cv2.COLORMAP_JET)\n",
        "    cv2.imwrite(f'/content/drive/MyDrive/project_output/disparity_{i}.png',depth_map)\n",
        "\n",
        "    gt_depth_map = cv2.imread(train + \"/\" + i + \"/\" + 'disp0GTy.pfm', cv2.IMREAD_GRAYSCALE).astype(np.float32) / 255.0\n",
        "    computed_depth_map = cv2.imread(f'/content/drive/MyDrive/project_output/disparity_{i}.png', cv2.IMREAD_GRAYSCALE).astype(np.float32) / 255.0\n",
        "    # depth_map = depth_map/255.0\n",
        "    # Compute the absolute difference between the two depth maps\n",
        "    # print(gt_depth_map.shape, depth_map.shape)\n",
        "    abs_diff = cv2.absdiff(gt_depth_map, computed_depth_map)\n",
        "\n",
        "    # Compute the mean absolute error (MAE) and the root mean squared error (RMSE)\n",
        "    mae = np.mean(abs_diff)\n",
        "    rmse = np.sqrt(np.mean(np.square(abs_diff)))\n",
        "\n",
        "    mean_mae.append(mae)\n",
        "    mean_rmse.append(rmse)\n",
        "\n",
        "    # Print the results\n",
        "    print(f'Mean Absolute Error (MAE) for img {z}:', mae)\n",
        "    print(f'Root Mean Squared Error (RMSE) img {z}:', rmse)\n",
        "    print(\"--------------------------------------------------------------------------------------------\")\n",
        "    print()\n",
        "    z+=1\n",
        "    "
      ]
    },
    {
      "cell_type": "code",
      "source": [
        "print(f\"Mean MAE on train set: {np.mean(mean_mae)}\") \n",
        "print(f\"Mean RMSE on train set: {np.mean(mean_rmse)}\") \n"
      ],
      "metadata": {
        "id": "iZ2nDwxQ9zlp",
        "outputId": "3f3dd589-2a07-4145-e775-5b2189ca5335",
        "colab": {
          "base_uri": "https://localhost:8080/"
        }
      },
      "execution_count": 33,
      "outputs": [
        {
          "output_type": "stream",
          "name": "stdout",
          "text": [
            "Mean MAE on train set: 0.23706090450286865\n",
            "Mean RMSE on train set: 0.34546616673469543\n"
          ]
        }
      ]
    }
  ],
  "metadata": {
    "colab": {
      "provenance": [],
      "gpuType": "T4"
    },
    "kernelspec": {
      "display_name": "Python 3",
      "name": "python3"
    },
    "language_info": {
      "name": "python"
    },
    "accelerator": "GPU",
    "gpuClass": "standard"
  },
  "nbformat": 4,
  "nbformat_minor": 0
}